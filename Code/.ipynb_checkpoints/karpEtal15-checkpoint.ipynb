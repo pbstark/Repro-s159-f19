{
 "cells": [
  {
   "cell_type": "markdown",
   "metadata": {},
   "source": [
    "## Re-analyze Karp et al. (2105) data\n",
    "### P.B. Stark\n",
    "\n",
    "Python 3 notebook"
   ]
  },
  {
   "cell_type": "code",
   "execution_count": 1,
   "metadata": {},
   "outputs": [],
   "source": [
    "%matplotlib inline\n",
    "import math\n",
    "import numpy as np\n",
    "import scipy as sp\n",
    "from scipy.stats import binom, chi2, hypergeom\n",
    "import numbers\n",
    "import matplotlib.pyplot as plt\n",
    "import csv\n",
    "import re\n",
    "import pandas as pd\n",
    "import itertools\n",
    "import permute as pt\n",
    "import statsmodels.api as sm\n",
    "import statsmodels.formula.api as smf\n",
    "\n",
    "from permute.utils import binom_conf_interval\n",
    "from cryptorandom import cryptorandom as cr\n",
    "from cryptorandom import sample\n",
    "\n",
    "seed = \"statistics 159/259 fall 2018\"\n",
    "prng = cr.SHA256(seed)"
   ]
  },
  {
   "cell_type": "code",
   "execution_count": 2,
   "metadata": {},
   "outputs": [],
   "source": [
    "fn = '../Data/karp_farms.csv'\n",
    "with open(fn, newline='') as csvfile:\n",
    "    reader = csv.DictReader(csvfile)\n",
    "    farms = [r for r in reader]"
   ]
  },
  {
   "cell_type": "code",
   "execution_count": 3,
   "metadata": {},
   "outputs": [
    {
     "data": {
      "text/plain": [
       "odict_keys(['Farm ID', 'county', 'town', 'E_Coli_Change', 'Salm_Change', 'Change in Nature', 'Change in Riparian', 'Change in Crop'])"
      ]
     },
     "execution_count": 3,
     "metadata": {},
     "output_type": "execute_result"
    }
   ],
   "source": [
    "farms[0].keys()"
   ]
  },
  {
   "cell_type": "code",
   "execution_count": 4,
   "metadata": {},
   "outputs": [],
   "source": [
    "ecoli = np.array([float(f['E_Coli_Change']) for f in farms])\n",
    "nature = np.array([float(f['Change in Nature']) for f in farms])\n",
    "\n",
    "# values for regression line plot\n",
    "nature_line = np.linspace(np.amin(nature), np.amax(nature), num=100)\n",
    "\n",
    "# augment data with a vector of 1s\n",
    "nature1 = sm.add_constant(nature)  "
   ]
  },
  {
   "cell_type": "code",
   "execution_count": 5,
   "metadata": {},
   "outputs": [
    {
     "name": "stdout",
     "output_type": "stream",
     "text": [
      "                            OLS Regression Results                            \n",
      "==============================================================================\n",
      "Dep. Variable:                      y   R-squared:                       0.299\n",
      "Model:                            OLS   Adj. R-squared:                  0.272\n",
      "Method:                 Least Squares   F-statistic:                     11.08\n",
      "Date:                Tue, 28 Aug 2018   Prob (F-statistic):            0.00262\n",
      "Time:                        21:17:26   Log-Likelihood:                 57.716\n",
      "No. Observations:                  28   AIC:                            -111.4\n",
      "Df Residuals:                      26   BIC:                            -108.8\n",
      "Df Model:                           1                                         \n",
      "Covariance Type:            nonrobust                                         \n",
      "==============================================================================\n",
      "                 coef    std err          t      P>|t|      [0.025      0.975]\n",
      "------------------------------------------------------------------------------\n",
      "const          0.0033      0.007      0.492      0.627      -0.011       0.017\n",
      "x1            -0.3036      0.091     -3.328      0.003      -0.491      -0.116\n",
      "==============================================================================\n",
      "Omnibus:                       27.451   Durbin-Watson:                   2.072\n",
      "Prob(Omnibus):                  0.000   Jarque-Bera (JB):               78.562\n",
      "Skew:                           1.760   Prob(JB):                     8.72e-18\n",
      "Kurtosis:                      10.413   Cond. No.                         15.1\n",
      "==============================================================================\n",
      "\n",
      "Warnings:\n",
      "[1] Standard Errors assume that the covariance matrix of the errors is correctly specified.\n"
     ]
    },
    {
     "data": {
      "image/png": "[encoded data removed]",
      "text/plain": [
       "<Figure size 432x288 with 1 Axes>"
      ]
     },
     "metadata": {},
     "output_type": "display_data"
    }
   ],
   "source": [
    "regress = sm.OLS(ecoli, nature1).fit()\n",
    "print(regress.summary())\n",
    "\n",
    "coeffs = regress.params\n",
    "\n",
    "# ecoli_line = regress.predict(exog=nature_line)\n",
    "\n",
    "# print(\"intercept: {}\\nslope: {}\".format(regr.intercept_,regr.coef_))\n",
    "# print(rr.summary())\n",
    "\n",
    "plt.scatter(nature, ecoli,  color='blue')\n",
    "plt.plot(nature_line, coeffs[0] + coeffs[1] * nature_line)\n",
    "\n",
    "plt.xlabel('Percent change in natural vegetation')\n",
    "plt.ylabel('Percent change in EHEC')\n",
    "\n",
    "plt.show()"
   ]
  },
  {
   "cell_type": "markdown",
   "metadata": {},
   "source": [
    "## Significance of the slope using a permutation test"
   ]
  },
  {
   "cell_type": "code",
   "execution_count": 6,
   "metadata": {},
   "outputs": [],
   "source": [
    "reps = int(10**5)\n",
    "n = len(ecoli)\n",
    "vals = np.zeros(reps)\n",
    "for i in range(reps):\n",
    "    permutation = np.array(sample.fykd_sample(n, n, gen=prng))-1\n",
    "    p_ecoli = ecoli[permutation]\n",
    "    vals[i] = sm.OLS(p_ecoli, nature1).fit().params[1]"
   ]
  },
  {
   "cell_type": "code",
   "execution_count": 7,
   "metadata": {},
   "outputs": [
    {
     "name": "stdout",
     "output_type": "stream",
     "text": [
      "estimated p 0.03099\n",
      "(0.0, 0.032082742274273775)\n"
     ]
    }
   ],
   "source": [
    "# simulated p-value\n",
    "exceed = sum(abs(vals) >= abs(coeffs[1]))\n",
    "print(\"estimated p\", exceed/reps)\n",
    "print(binom_conf_interval(n=reps,x=exceed, alternative='upper'))"
   ]
  },
  {
   "cell_type": "markdown",
   "metadata": {},
   "source": [
    "## Crude approximation if chinese cabbage or arugula is a transcription error"
   ]
  },
  {
   "cell_type": "code",
   "execution_count": 8,
   "metadata": {},
   "outputs": [],
   "source": [
    "farms_edit = farms.copy()"
   ]
  },
  {
   "cell_type": "code",
   "execution_count": 9,
   "metadata": {},
   "outputs": [],
   "source": [
    "for f in farms_edit:\n",
    "    if f['Farm ID'] == '31':\n",
    "        f['E_Coli_Change'] = float(f['E_Coli_Change'])/2  # on the assumption that this halves the contamination rate \n",
    "\n",
    "ecoli_edit = np.array([float(f['E_Coli_Change']) for f in farms_edit])"
   ]
  },
  {
   "cell_type": "code",
   "execution_count": 10,
   "metadata": {},
   "outputs": [
    {
     "name": "stdout",
     "output_type": "stream",
     "text": [
      "[-0.00392157  0.02929757  0.02141711  0.00531177  0.0044216   0.\n",
      "  0.          0.00198216  0.01714286  0.0044484   0.         -0.00100503\n",
      "  0.          0.00683289  0.00171772  0.          0.00104822  0.07480916\n",
      "  0.00116802  0.09406928  0.00079856  0.01590412  0.          0.00343715\n",
      "  0.00485437  0.          0.00225514  0.        ]\n"
     ]
    }
   ],
   "source": [
    "print(ecoli_edit)"
   ]
  },
  {
   "cell_type": "code",
   "execution_count": 11,
   "metadata": {},
   "outputs": [
    {
     "name": "stdout",
     "output_type": "stream",
     "text": [
      "                            OLS Regression Results                            \n",
      "==============================================================================\n",
      "Dep. Variable:                      y   R-squared:                       0.263\n",
      "Model:                            OLS   Adj. R-squared:                  0.234\n",
      "Method:                 Least Squares   F-statistic:                     9.269\n",
      "Date:                Tue, 28 Aug 2018   Prob (F-statistic):            0.00528\n",
      "Time:                        21:18:09   Log-Likelihood:                 71.388\n",
      "No. Observations:                  28   AIC:                            -138.8\n",
      "Df Residuals:                      26   BIC:                            -136.1\n",
      "Df Model:                           1                                         \n",
      "Covariance Type:            nonrobust                                         \n",
      "==============================================================================\n",
      "                 coef    std err          t      P>|t|      [0.025      0.975]\n",
      "------------------------------------------------------------------------------\n",
      "const          0.0045      0.004      1.074      0.293      -0.004       0.013\n",
      "x1            -0.1704      0.056     -3.044      0.005      -0.285      -0.055\n",
      "==============================================================================\n",
      "Omnibus:                       18.779   Durbin-Watson:                   2.199\n",
      "Prob(Omnibus):                  0.000   Jarque-Bera (JB):               27.454\n",
      "Skew:                           1.481   Prob(JB):                     1.09e-06\n",
      "Kurtosis:                       6.842   Cond. No.                         15.1\n",
      "==============================================================================\n",
      "\n",
      "Warnings:\n",
      "[1] Standard Errors assume that the covariance matrix of the errors is correctly specified.\n",
      "estimated p 0.01737\n",
      "(0.0, 0.018198879626771504)\n"
     ]
    }
   ],
   "source": [
    "regress_edit = sm.OLS(ecoli_edit, nature1).fit()\n",
    "print(regress_edit.summary())\n",
    "coeffs_edit = regress_edit.params\n",
    "n = len(ecoli)\n",
    "vals = np.zeros(reps)\n",
    "for i in range(reps):\n",
    "    permutation = np.array(sample.fykd_sample(n, n, gen=prng))-1\n",
    "    p_ecoli = ecoli_edit[permutation]\n",
    "    vals[i] = sm.OLS(p_ecoli, nature1).fit().params[1]\n",
    "exceed = sum(abs(vals) >= abs(coeffs_edit[1]))\n",
    "print(\"estimated p\", exceed/reps)\n",
    "print(binom_conf_interval(n=reps,x=exceed, alternative='upper'))"
   ]
  },
  {
   "cell_type": "code",
   "execution_count": 12,
   "metadata": {},
   "outputs": [
    {
     "name": "stdout",
     "output_type": "stream",
     "text": [
      "Loading extensions from ~/.ipython/extensions is deprecated. We recommend managing extensions like any other Python packages, in site-packages.\n"
     ]
    },
    {
     "name": "stderr",
     "output_type": "stream",
     "text": [
      "/anaconda/lib/python3.6/site-packages/IPython/core/formatters.py:839: FormatterWarning: JSON expects JSONable list/dict containers, not JSON strings\n",
      "  FormatterWarning)\n"
     ]
    },
    {
     "data": {
      "application/json": {
       "Software versions": [
        {
         "module": "Python",
         "version": "3.6.1 64bit [GCC 4.2.1 Compatible Apple LLVM 6.0 (clang-600.0.57)]"
        },
        {
         "module": "IPython",
         "version": "6.4.0"
        },
        {
         "module": "OS",
         "version": "Darwin 17.7.0 x86_64 i386 64bit"
        },
        {
         "module": "scipy",
         "version": "1.1.0"
        },
        {
         "module": "numpy",
         "version": "1.14.5"
        },
        {
         "module": "pandas",
         "version": "0.23.1"
        },
        {
         "module": "matplotlib",
         "version": "2.2.2"
        },
        {
         "module": "notebook",
         "version": "5.5.0"
        },
        {
         "module": "jupyter",
         "version": "1.0.0"
        }
       ]
      },
      "text/html": [
       "<table><tr><th>Software</th><th>Version</th></tr><tr><td>Python</td><td>3.6.1 64bit [GCC 4.2.1 Compatible Apple LLVM 6.0 (clang-600.0.57)]</td></tr><tr><td>IPython</td><td>6.4.0</td></tr><tr><td>OS</td><td>Darwin 17.7.0 x86_64 i386 64bit</td></tr><tr><td>scipy</td><td>1.1.0</td></tr><tr><td>numpy</td><td>1.14.5</td></tr><tr><td>pandas</td><td>0.23.1</td></tr><tr><td>matplotlib</td><td>2.2.2</td></tr><tr><td>notebook</td><td>5.5.0</td></tr><tr><td>jupyter</td><td>1.0.0</td></tr><tr><td colspan='2'>Tue Aug 28 21:18:52 2018 PDT</td></tr></table>"
      ],
      "text/latex": [
       "\\begin{tabular}{|l|l|}\\hline\n",
       "{\\bf Software} & {\\bf Version} \\\\ \\hline\\hline\n",
       "Python & 3.6.1 64bit [GCC 4.2.1 Compatible Apple LLVM 6.0 (clang-600.0.57)] \\\\ \\hline\n",
       "IPython & 6.4.0 \\\\ \\hline\n",
       "OS & Darwin 17.7.0 x86\\letterunderscore{}64 i386 64bit \\\\ \\hline\n",
       "scipy & 1.1.0 \\\\ \\hline\n",
       "numpy & 1.14.5 \\\\ \\hline\n",
       "pandas & 0.23.1 \\\\ \\hline\n",
       "matplotlib & 2.2.2 \\\\ \\hline\n",
       "notebook & 5.5.0 \\\\ \\hline\n",
       "jupyter & 1.0.0 \\\\ \\hline\n",
       "\\hline \\multicolumn{2}{|l|}{Tue Aug 28 21:18:52 2018 PDT} \\\\ \\hline\n",
       "\\end{tabular}\n"
      ],
      "text/plain": [
       "Software versions\n",
       "Python 3.6.1 64bit [GCC 4.2.1 Compatible Apple LLVM 6.0 (clang-600.0.57)]\n",
       "IPython 6.4.0\n",
       "OS Darwin 17.7.0 x86_64 i386 64bit\n",
       "scipy 1.1.0\n",
       "numpy 1.14.5\n",
       "pandas 0.23.1\n",
       "matplotlib 2.2.2\n",
       "notebook 5.5.0\n",
       "jupyter 1.0.0\n",
       "Tue Aug 28 21:18:52 2018 PDT"
      ]
     },
     "execution_count": 12,
     "metadata": {},
     "output_type": "execute_result"
    }
   ],
   "source": [
    "%load_ext version_information\n",
    "%version_information scipy, numpy, pandas, matplotlib, notebook, jupyter"
   ]
  }
 ],
 "metadata": {
  "kernelspec": {
   "display_name": "Python 3",
   "language": "python",
   "name": "python3"
  },
  "language_info": {
   "codemirror_mode": {
    "name": "ipython",
    "version": 3
   },
   "file_extension": ".py",
   "mimetype": "text/x-python",
   "name": "python",
   "nbconvert_exporter": "python",
   "pygments_lexer": "ipython3",
   "version": "3.6.1"
  }
 },
 "nbformat": 4,
 "nbformat_minor": 2
}
