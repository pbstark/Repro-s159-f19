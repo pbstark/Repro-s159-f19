{
 "cells": [
  {
   "cell_type": "markdown",
   "metadata": {},
   "source": [
    "## Re-analyze Karp et al. (2105) data\n",
    "### P.B. Stark\n",
    "\n",
    "Python 3 notebook"
   ]
  },
  {
   "cell_type": "code",
   "execution_count": 1,
   "metadata": {},
   "outputs": [],
   "source": [
    "%matplotlib inline\n",
    "import math\n",
    "import numpy as np\n",
    "import scipy as sp\n",
    "from scipy.stats import binom, chi2, hypergeom\n",
    "import numbers\n",
    "import matplotlib.pyplot as plt\n",
    "import csv\n",
    "import re\n",
    "import pandas as pd\n",
    "import itertools\n",
    "import permute as pt\n",
    "import statsmodels.api as sm\n",
    "import statsmodels.formula.api as smf\n",
    "\n",
    "from permute.utils import binom_conf_interval\n",
    "from cryptorandom import cryptorandom as cr\n",
    "from cryptorandom import sample\n",
    "\n",
    "seed = \"statistics 159/259 fall 2018\"\n",
    "prng = cr.SHA256(seed)"
   ]
  },
  {
   "cell_type": "code",
   "execution_count": 2,
   "metadata": {},
   "outputs": [],
   "source": [
    "fn = '../Data/karp_farms.csv'\n",
    "with open(fn, newline='') as csvfile:\n",
    "    reader = csv.DictReader(csvfile)\n",
    "    farms = [r for r in reader]"
   ]
  },
  {
   "cell_type": "code",
   "execution_count": 3,
   "metadata": {},
   "outputs": [
    {
     "data": {
      "text/plain": [
       "odict_keys(['Farm ID', 'county', 'town', 'E_Coli_Change', 'Salm_Change', 'Change in Nature', 'Change in Riparian', 'Change in Crop'])"
      ]
     },
     "execution_count": 3,
     "metadata": {},
     "output_type": "execute_result"
    }
   ],
   "source": [
    "# what are the column names?\n",
    "farms[0].keys()"
   ]
  },
  {
   "cell_type": "code",
   "execution_count": 4,
   "metadata": {},
   "outputs": [],
   "source": [
    "ecoli = np.array([float(f['E_Coli_Change']) for f in farms])     # the change in E coli \n",
    "nature = np.array([float(f['Change in Nature']) for f in farms]) # the change in natural vegetation\n",
    "\n",
    "# values for regression line plot\n",
    "nature_line = np.linspace(np.amin(nature), np.amax(nature), num=100)\n",
    "\n",
    "# augment data with a vector of 1s for regression with an intercept\n",
    "nature1 = sm.add_constant(nature)  "
   ]
  },
  {
   "cell_type": "code",
   "execution_count": 5,
   "metadata": {},
   "outputs": [
    {
     "data": {
      "text/plain": [
       "-0.003921569"
      ]
     },
     "execution_count": 5,
     "metadata": {},
     "output_type": "execute_result"
    }
   ],
   "source": [
    "np.min(ecoli)"
   ]
  },
  {
   "cell_type": "code",
   "execution_count": 6,
   "metadata": {},
   "outputs": [],
   "source": [
    "def do_regress(y, x):\n",
    "    regress = sm.OLS(y, x).fit()  # fit the linear regression model using OLS\n",
    "    print(regress.summary())\n",
    "    coeffs = regress.params                 # coeffs[0] is the intercept; coeffs[1] is the slope\n",
    "    plt.scatter(x[:,1], y,  color='blue')                   # data\n",
    "    plt.plot(nature_line, coeffs[0] + coeffs[1] * nature_line)  # regression line\n",
    "    plt.xlabel('Relative change in natural vegetation')\n",
    "    plt.ylabel('Relative change in EHEC')\n",
    "    plt.show()\n",
    "    return(coeffs)"
   ]
  },
  {
   "cell_type": "code",
   "execution_count": 7,
   "metadata": {},
   "outputs": [
    {
     "name": "stdout",
     "output_type": "stream",
     "text": [
      "                            OLS Regression Results                            \n",
      "==============================================================================\n",
      "Dep. Variable:                      y   R-squared:                       0.299\n",
      "Model:                            OLS   Adj. R-squared:                  0.272\n",
      "Method:                 Least Squares   F-statistic:                     11.08\n",
      "Date:                Wed, 12 Sep 2018   Prob (F-statistic):            0.00262\n",
      "Time:                        09:40:47   Log-Likelihood:                 57.716\n",
      "No. Observations:                  28   AIC:                            -111.4\n",
      "Df Residuals:                      26   BIC:                            -108.8\n",
      "Df Model:                           1                                         \n",
      "Covariance Type:            nonrobust                                         \n",
      "==============================================================================\n",
      "                 coef    std err          t      P>|t|      [0.025      0.975]\n",
      "------------------------------------------------------------------------------\n",
      "const          0.0033      0.007      0.492      0.627      -0.011       0.017\n",
      "x1            -0.3036      0.091     -3.328      0.003      -0.491      -0.116\n",
      "==============================================================================\n",
      "Omnibus:                       27.451   Durbin-Watson:                   2.072\n",
      "Prob(Omnibus):                  0.000   Jarque-Bera (JB):               78.562\n",
      "Skew:                           1.760   Prob(JB):                     8.72e-18\n",
      "Kurtosis:                      10.413   Cond. No.                         15.1\n",
      "==============================================================================\n",
      "\n",
      "Warnings:\n",
      "[1] Standard Errors assume that the covariance matrix of the errors is correctly specified.\n"
     ]
    },
    {
     "data": {
      "image/png": "[encoded data removed]",
      "text/plain": [
       "<Figure size 432x288 with 1 Axes>"
      ]
     },
     "metadata": {},
     "output_type": "display_data"
    }
   ],
   "source": [
    "coeffs= do_regress(ecoli, nature1)"
   ]
  },
  {
   "cell_type": "markdown",
   "metadata": {},
   "source": [
    "Look at the coefficient lines in the regression output:\n",
    "\n",
    "> ==============================================================================\n",
    ">                 coef    std err          t      P>|t|      [0.025      0.975]\n",
    "> ------------------------------------------------------------------------------\n",
    "> const          0.0033      0.007      0.492      0.627      -0.011       0.017\n",
    "> x1            -0.3036      0.091     -3.328      0.003      -0.491      -0.116\n",
    "\n",
    "We are interested in the slope, x1, which is summarized in the bottom row.\n",
    "\n",
    "The least-squares estimate of x1 is coef=-0.3036. \n",
    "This value can be calculated provided the design matrix $X$ has full rank (so that $X^TX$ is invertible). \n",
    "The estimate is unbiased if the model $Y = X\\beta + \\epsilon$ is true, with $\\mathbb{E} \\epsilon = 0$.\n",
    "\n",
    "The standard error 0.091 can be calculated provided $X$ has full rank and $n > p$ (the number of data is greater than the number of parameters). But it is \"really\" an estimate of the standard error of the estimated slope only if the model is true, $X$ is full rank, $n > p$, $\\mathbb{E}\\epsilon = 0$, and $\\mathrm{cov} \\epsilon = \\sigma^2 I_{n}$.\n",
    "\n",
    "The t statistic -3.328 can be computed whenever coef and std err can be computed.\n",
    "But the p-value, P>|t|, is correct only if the model is true, $X$ has full rank, $n > p$, and $\\epsilon \\sim N(0, \\sigma^2 I_n)$. \n",
    "The same is true for the confidence interval."
   ]
  },
  {
   "cell_type": "markdown",
   "metadata": {},
   "source": [
    "## Significance of the slope\n",
    "\n",
    "### Standard regression model\n",
    "\n",
    "The \"usual\" regression model says $Y = X\\beta + \\epsilon$, where \n",
    "\n",
    "$$ X = \\left [ \\begin{array}{ccccc} X_{11} & X_{12} & \\cdots & X_{1p} \\\\ \n",
    "                X_{21} & X_{22} & \\cdots & X_{2p} \\\\\n",
    "                \\vdots & \\vdots & \\vdots & \\vdots \\\\ \n",
    "                X_{n1} & X_{n2} & \\cdots & X_{np} \\end{array} \\right ]$$\n",
    "\n",
    "is the _design matrix_, $\\beta = [\\beta_1 \\beta_2 \\cdots \\beta_p]^T$ are the _coefficients_, $\\epsilon = [\\epsilon_1 , \\ldots, \\epsilon_n]^T$ is the _noise_ or _random error_, and it is assumed that\n",
    "$\\{ \\epsilon_j \\}_{j=1}^n$ are IID with mean zero and variance $\\sigma^2$.\n",
    "We assume that $X$ is full rank $p$ and either that $X$ is not random or that $X$ and $\\epsilon$ are independent, in which case we will condition on $X$. \n",
    "We also assume $n > p$.\n",
    "\n",
    "The OLS estimate is $\\hat{\\beta} \\equiv (X^TX)^{-1}X^T Y$.\n",
    "\n",
    "#### Theorem: the OLS estimate is unbiased and $\\mathrm{cov}(\\hat{\\beta}) = (X^TX)^{-1} X^T \\mathrm{cov}(\\epsilon | X) X (X^TX)^{-1}$.\n",
    "\n",
    "**Proof.** \n",
    "\n",
    "$$ (X^TX)^{-1}X^T Y = (X^TX)^{-1}X^T (X\\beta + \\epsilon) = (X^TX)^{-1}X^TX\\beta + (X^TX)^{-1}X^T\\epsilon $$\n",
    "\n",
    "$$ = \\beta + (X^TX)^{-1}X^T\\epsilon.$$\n",
    "\n",
    "Now, \n",
    "\n",
    "$$\\mathbb{E} \\left (\\beta + (X^TX)^{-1}X^T\\epsilon | X \\right ) = \\beta + (X^TX)^{-1}X^T \\mathbb{E} (\\epsilon | X)$$\n",
    "\n",
    "$$ = \\beta + (X^TX)^{-1}X^T \\mathbf{0} = \\beta,$$\n",
    "\n",
    "so $\\hat{\\beta}$ is unbiased.\n",
    "\n",
    "$$ \\mathrm{cov} \\left (\\hat{\\beta} | X \\right ) \\equiv \\mathbb{E} ((\\hat{\\beta} - \\beta)(\\hat{\\beta} - \\beta)^T | X) $$\n",
    "\n",
    "$$ = \\mathbb{E} \\left ( (X^TX)^{-1}X^T \\epsilon ((X^TX)^{-1}X^T \\epsilon)^T | X \\right ) $$\n",
    "\n",
    "$$ = \\mathbb{E} \\left ( (X^TX)^{-1}X^T \\epsilon \\epsilon^T X (X^TX)^{-1} | X \\right ) $$\n",
    "\n",
    "$$ = (X^TX)^{-1}X^T \\mathbb{E}(\\epsilon \\epsilon^T | X) X (X^TX)^{-1}$$\n",
    "\n",
    "$$ = (X^TX)^{-1}X^T \\mathrm{cov}(\\epsilon | X) X (X^TX)^{-1}.$$\n",
    "\n",
    "Since $\\mathrm{cov}(\\epsilon | X) = \\sigma^2 I_{n}$, this simplifies to\n",
    "\n",
    "$$ \\mathrm{cov} (\\hat{\\beta} | X) = \\sigma^2 (X^TX)^{-1}X^T I_n X (X^TX)^{-1} = \\sigma^2 (X^TX)^{-1}.$$\n",
    "\n",
    "Define $e = Y - X \\hat{\\beta}$, the _residuals_.\n",
    "\n",
    "A conditionally unbiased estimate for $\\sigma^2$ is \n",
    "\n",
    "$$ \\hat{\\sigma}^2 = \\frac{1}{n-p} \\sum_{j=1}^n e_j^2 = \\frac{1}{n-p} \\sum_{j=1}^n (Y_j - X_j \\hat{\\beta})^2.$$\n",
    "\n",
    "#### The t-test\n",
    "\n",
    "The $t$-test for whether a coefficient is significantly different from zero requires the further assumption that\n",
    "$\\{ \\epsilon_j \\}$ have a distribution that is jointly normal (given $X$):  given $X$, $\\{ \\epsilon_j \\}$ are IID $N(0, \\sigma^2)$.\n",
    "\n",
    "Then $\\hat{\\beta} \\sim N(\\beta, \\sigma^2 (X^TX)^{-1})$.\n",
    "\n",
    "The $t$ statistic for the $\\hat{\\beta}_k$ is \n",
    "\n",
    "$$ t = \\hat{\\beta}_k/\\hat{\\mathrm{SE}}_k, $$\n",
    "\n",
    "where $\\hat{\\mathrm{SE}}_k \\equiv \\hat{\\sigma} \\sqrt{(X^TX)^{-1}_{kk}}$.\n",
    "\n",
    "Under all the assumptions, $t$ has Student's $t$ distribution with $n-p$ degrees of freedom if $\\beta_k = 0$."
   ]
  },
  {
   "cell_type": "markdown",
   "metadata": {},
   "source": [
    "### Permutation test\n",
    "\n",
    "Because the assumptions that lead to the t-test are unreasonable in this application, we will look at other ways of assessing the evidence that the two variables are associated.\n",
    "\n",
    "Let's specialize to the case $p = 2$, with $X_{k1} = 1$ (an intercept term in the regression).\n",
    "\n",
    "Suppose that the components of $\\epsilon$ are IID (but not necessarily zero mean, normal, or anything else). Under the hypothesis that $\\beta_1 = 0$, the data are then\n",
    "\n",
    "$$ Y_j = \\beta_0 + 0\\times X_j + \\epsilon_j = \\beta_0 + \\epsilon_j, \\;\\; j=1, \\ldots, n.$$\n",
    "\n",
    "Since $\\{ \\epsilon_j \\}$ are IID, so are $\\{ Y_j = \\beta_0 + \\epsilon_j \\}$.\n",
    "\n",
    "__Definition.__ A set of random variables $\\{Z_j \\}_{j=1}^n$ is _exchangeable_ if the joint distribution of $(Z_{\\pi_1}, Z_{\\pi_2}, \\ldots, Z_{\\pi_n})$ is the same for all permutations $\\pi$ of $\\{1, 2, \\ldots, n\\}$.\n",
    "\n",
    "If a set of variables is IID, it is exchangeable. (The converse is not necessarily true.)\n",
    "\n",
    "Thus if $\\beta_1 = 0$, $\\{Y_j \\}_{j=1}^n$ are exchangeable.\n",
    "\n",
    "Suppose $\\{Z_j \\}_{j=1}^n$ are exchangeable, and let $z \\in \\Re^n$. \n",
    "Then for every permutation $\\pi$ of $\\{1, \\ldots, n \\}$,\n",
    "\n",
    "$$\\Pr \\{ Z_j = z_j, j=1, \\ldots, n \\} = \\Pr \\{ Z_j = z_{\\pi_j}, j = 1, \\ldots, n \\}.$$\n",
    "\n",
    "Let $z = (z_1, \\ldots, z_n)$.\n",
    "The set of all $(z_{\\pi_j})_{j=1}^n$ for all permutations $\\pi$ of $\\{1, \\ldots, n \\}$ is _the orbit of $z$ under the permutation group_.\n",
    "\n",
    "#### What's the justification for *this* model here?\n",
    "\n",
    "Why linear? Why additive errors? Why IID errors?\n",
    "\n",
    "#### Another approach: the Neyman \"ticket\" model\n",
    "\n",
    "| item | response if assigned $X_1$ | $\\cdots$ | response if assigned $X_n$ |\n",
    "|:----:|:--------------------------:|:--------:|:--------------------------:|\n",
    "| 1    |  $Y_{11}$                  | $\\cdots$ | $Y_{1n}$                  |\n",
    "|  $\\vdots$ | $\\vdots$              | $\\vdots$ |  $\\vdots$                 |\n",
    "| $n$  |  $Y_{n1}$                  | $\\cdots$ | $Y_{nn}$                  |\n",
    "\n",
    "Suppose there's no connection between $X$ and $Y$: response of item $j$ would be the same, regardless of\n",
    "the value of $X_i$.\n",
    "Then all \"shufflings\" of $Y$ versus $X$ would be equally likely;\n",
    "treat the data as if the treatment were assigned at random to the farm.\n",
    "\n",
    "Is that more plausible or less plausible than the regression models?\n",
    "\n",
    "Leads to exactly the same permutation test as $Y = X\\beta + \\epsilon$ with \n",
    "the components of $\\epsilon$ IID.\n",
    "\n",
    "Why use $|\\hat{\\beta}_1|$ as the test statistic?\n",
    "\n",
    "Equivalent to a permutation test based on the Pearson correlation:\n",
    "\n",
    "$\\hat{\\beta}_1 = r \\mathrm{SD}(Y)/\\mathrm{SD}(X)$, where $r$ is the (sample) correlation between $X$ and $Y$.\n",
    "\n",
    "One-to-one, monotonic relationship between them, so reject the null for exactly the\n",
    "same data sets."
   ]
  },
  {
   "cell_type": "markdown",
   "metadata": {},
   "source": [
    "## How to shuffle\n",
    "\n",
    "1. Assign a pseudo-random number to every element, then sort based on that number\n",
    "\n",
    "1. Fisher-Yates-Knuth-Durstenfeld shuffle\n",
    "\n",
    "**Algorithm Fisher-Yates-Knuth-Durstenfeld shuffle (backwards version)**\n",
    "\n",
    "    for i=1, ..., n-1:\n",
    "        J <- random integer uniformly distributed on {i, ..., n}\n",
    "        (a[J], a[i]) <- (a[i], a[J])\n",
    "        \n",
    "This requires the ability to generate independent random integers on various ranges. Doesn't require sorting.\n",
    "\n",
    "There's a version suitable for streaming, i.e., generating a random permutation of a list that has an (initially) unknown number  nn of elements:\n",
    "\n",
    "**Algorithm Fisher-Yates-Knuth-Durstenfeld shuffle (streaming version)**\n",
    "\n",
    "i <- 0\n",
    "a = []\n",
    "while there are records left:\n",
    "    i <- i+1\n",
    "    J <- random integer uniformly distributed on {1, ..., i}\n",
    "    if J < i:\n",
    "        a[i] <- a[J]\n",
    "        a[J] <- next record\n",
    "    else:\n",
    "        a[i] <- next record\n",
    "Again, need to be able to generate independent uniformly distributed random integers."
   ]
  },
  {
   "cell_type": "code",
   "execution_count": 8,
   "metadata": {},
   "outputs": [],
   "source": [
    "def fykd(a, gen=np.random):\n",
    "    for i in range(len(a)-1):\n",
    "        J = gen.randint(i,len(a))\n",
    "        a[i], a[J] = a[J], a[i]\n",
    "    return(a)"
   ]
  },
  {
   "cell_type": "markdown",
   "metadata": {},
   "source": [
    "### Proof that the streaming Fisher-Yates-Knuth-Durstenfeld algorithm works\n",
    "\n",
    "Induction: \n",
    "\n",
    "For $i=1$, obvious.\n",
    "\n",
    "At stage $i$, suppose all $i!$ permutations are equally likely. For each such permutation, there are\n",
    "$i+1$ distinct, equally likely permutations at stage $i+1$, resulting from swapping the $i+1$st item with one\n",
    "of the first $i$, or putting it in position $i+1$. These possibilities are mutually exclusive of\n",
    "the permutations attainable from a different permutation of the first $i$ items.\n",
    "\n",
    "Thus, this enumerates all $(i+1)i! = (i+1)!$ permutations of $(i+1)$ items, and they are equally likely. &#x25A0;"
   ]
  },
  {
   "cell_type": "markdown",
   "metadata": {},
   "source": [
    "## How not to shuffle\n",
    "\n",
    "Sort using a \"random\" comparison function, e.g.,\n",
    "\n",
    "    def RandomSort(a,b):\n",
    "        return (0.5 - np.random.random())\n",
    "\n",
    "But this fails the basic properties of an ordering, e.g., transitivity, reflexiveness, etc. Doesn't produce random permutation. Output also depends on sorting algorithm. \n",
    "\n",
    "Notoriously used by Microsoft to offer a selection of browsers in the EU. Resulted in IE being 5th of 5 about half the time in IE and about 26% of the time in Chrome, but only 6% of the time in Safari (4th about 40% of the time).\n",
    "\n",
    "See, e.g., http://www.computerworld.com/article/2520190/web-apps/microsoft-s-eu-ballot-fails-to-randomize-browser-order.html"
   ]
  },
  {
   "cell_type": "markdown",
   "metadata": {},
   "source": [
    "## How to generate random integers\n",
    "\n",
    "Textbook approach:\n",
    "\n",
    "To generate a random integer between 0 and m-1\n",
    "\n",
    "* Generate $U \\sim U[0, 1)$\n",
    "* Return $\\lfloor mU \\rfloor$\n",
    "\n",
    "Works if $U$ really were $U[0, 1)$, but that's not what PRNGs generate. Instead, typically generate a $k$-bit binary fraction (or its floating-point representation).\n",
    "\n",
    "Introduces truncation effects. Even if the PRNG were perfectly uniform on its output, result would be uniformly distributed on $\\{0, 1, \\ldots, m-1\\}$ only if $m$ is a power of 2 (not exceeding the number of bits of output of the PRNG).\n",
    "\n",
    "R gets this wrong.\n",
    "\n",
    "Better approach (used in python):\n",
    "\n",
    "Let $k = \\lceil \\log_2(m-1) \\rceil$. Generate $k$ random bits and interpret the result $M$ as an integer. If $M \\le m-1$, return $M$. Otherwise, generate $k$ more random bits and try again.\n",
    "\n",
    "See [cryptorandom](https://github.com/statlab/cryptorandom/blob/master/cryptorandom/cryptorandom.py)"
   ]
  },
  {
   "cell_type": "code",
   "execution_count": null,
   "metadata": {},
   "outputs": [],
   "source": [
    "# Use cryptorandom's permutation\n",
    "\n",
    "reps = int(10**5)                                                 # replications\n",
    "n = len(ecoli)\n",
    "vals = np.zeros(reps)                                             # allocate storage for slope estimates\n",
    "for i in range(reps):\n",
    "    permutation = np.array(sample.fykd_sample(n, n, gen=prng))-1  # shuffle {1, ..., n}\n",
    "    p_ecoli = ecoli[permutation]                                  # permute the E coli values\n",
    "    vals[i] = sm.OLS(p_ecoli, nature1).fit().params[1]            # regress"
   ]
  },
  {
   "cell_type": "code",
   "execution_count": null,
   "metadata": {},
   "outputs": [],
   "source": [
    "# simulated p-value\n",
    "exceed = sum(abs(vals) >= abs(coeffs[1]))                         # number of estimates that exceed measured slope\n",
    "print(\"estimated p\", exceed/reps)\n",
    "print(binom_conf_interval(n=reps,x=exceed, alternative='upper'))  # upper confidence bound"
   ]
  },
  {
   "cell_type": "markdown",
   "metadata": {},
   "source": [
    "## Crude approximation if chinese cabbage or arugula is a transcription error"
   ]
  },
  {
   "cell_type": "code",
   "execution_count": null,
   "metadata": {},
   "outputs": [],
   "source": [
    "farms_edit = farms.copy()"
   ]
  },
  {
   "cell_type": "code",
   "execution_count": null,
   "metadata": {},
   "outputs": [],
   "source": [
    "for f in farms_edit:\n",
    "    if f['Farm ID'] == '31':\n",
    "        f['E_Coli_Change'] = float(f['E_Coli_Change'])/2  # on the assumption that this halves the contamination rate \n",
    "\n",
    "ecoli_edit = np.array([float(f['E_Coli_Change']) for f in farms_edit])"
   ]
  },
  {
   "cell_type": "code",
   "execution_count": null,
   "metadata": {},
   "outputs": [],
   "source": [
    "print(ecoli-ecoli_edit)"
   ]
  },
  {
   "cell_type": "code",
   "execution_count": null,
   "metadata": {},
   "outputs": [],
   "source": [
    "coeffs_edit = do_regress(ecoli_edit, nature1)\n",
    "\n",
    "n = len(ecoli)\n",
    "vals = np.zeros(reps)\n",
    "for i in range(reps):\n",
    "    permutation = np.array(sample.fykd_sample(n, n, gen=prng))-1\n",
    "    p_ecoli = ecoli_edit[permutation]\n",
    "    vals[i] = sm.OLS(p_ecoli, nature1).fit().params[1]\n",
    "exceed = sum(abs(vals) >= abs(coeffs_edit[1]))\n",
    "print(\"estimated p:\", exceed/reps, binom_conf_interval(n=reps,x=exceed, alternative='upper'))"
   ]
  },
  {
   "cell_type": "code",
   "execution_count": null,
   "metadata": {},
   "outputs": [],
   "source": [
    "# Karp et al. use fourth-root transformation of the contamination data.\n",
    "\n",
    "ecoli4th = np.multiply(np.sign(ecoli), np.power(np.abs(ecoli), 1/4))\n",
    "coeffs4th = do_regress(ecoli4th, nature1)"
   ]
  },
  {
   "cell_type": "code",
   "execution_count": null,
   "metadata": {},
   "outputs": [],
   "source": [
    "reps = int(10**5)                                                 # replications\n",
    "n = len(ecoli4th)\n",
    "vals = np.zeros(reps)                                             # allocate storage for slope estimates\n",
    "for i in range(reps):\n",
    "    permutation = np.array(sample.fykd_sample(n, n, gen=prng))-1  # shuffle {1, ..., n}\n",
    "    p_ecoli = ecoli4th[permutation]                               # permute the E coli values\n",
    "    vals[i] = sm.OLS(p_ecoli, nature1).fit().params[1]            # regress"
   ]
  },
  {
   "cell_type": "code",
   "execution_count": null,
   "metadata": {},
   "outputs": [],
   "source": [
    "# simulated p-value\n",
    "exceed = sum(abs(vals) >= abs(coeffs4th[1]))                      # number of estimates that exceed measured slope\n",
    "print(\"estimated p:\", exceed/reps, binom_conf_interval(n=reps,x=exceed, alternative='upper'))  # upper confidence bound"
   ]
  },
  {
   "cell_type": "markdown",
   "metadata": {},
   "source": [
    "## Try omitting farm 31?"
   ]
  },
  {
   "cell_type": "markdown",
   "metadata": {},
   "source": [
    "## Questions:\n",
    "\n",
    "1. How did Karp et al. decide to use the 4th-root transformation?\n",
    "\n",
    "1. What is the effect of using that transformation?\n",
    "\n",
    "1. How many other transformations were considered or tried?\n",
    "\n",
    "Gelman and Loken, 2013: [\"Garden of Forking Paths\"](http://www.stat.columbia.edu/~gelman/research/unpublished/p_hacking.pdf)"
   ]
  },
  {
   "cell_type": "markdown",
   "metadata": {},
   "source": [
    "## Technical issues:\n",
    "\n",
    "1. Formally, $\\hat{\\beta} = (X^TX)^{-1}X^TY$, but that's not how to compute it. Why?"
   ]
  },
  {
   "cell_type": "code",
   "execution_count": null,
   "metadata": {},
   "outputs": [],
   "source": [
    "%load_ext version_information\n",
    "%version_information scipy, numpy, pandas, matplotlib, notebook, jupyter"
   ]
  }
 ],
 "metadata": {
  "kernelspec": {
   "display_name": "Python 3",
   "language": "python",
   "name": "python3"
  },
  "language_info": {
   "codemirror_mode": {
    "name": "ipython",
    "version": 3
   },
   "file_extension": ".py",
   "mimetype": "text/x-python",
   "name": "python",
   "nbconvert_exporter": "python",
   "pygments_lexer": "ipython3",
   "version": "3.6.1"
  }
 },
 "nbformat": 4,
 "nbformat_minor": 2
}
